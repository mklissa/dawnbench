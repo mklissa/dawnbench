{
 "cells": [
  {
   "cell_type": "code",
   "execution_count": null,
   "metadata": {},
   "outputs": [],
   "source": [
    "import mxnet as mx\n",
    "import logging\n",
    "import os\n",
    "import sys\n",
    "# sys.path.append(os.path.dirname(os.path.dirname(os.path.abspath(__file__))))\n",
    "sys.path.append('/home/ec2-user/SageMaker/deep-learning-benchmark-mirror/dawnbench/')\n",
    "from arg_parsing import process_args\n",
    "from logger import construct_run_id, configure_root_logger\n",
    "from data_loaders.cifar10 import Cifar10\n",
    "from models.resnet164_basic import resnet164Basic\n",
    "from learners.gluon import GluonLearner\n",
    "\n",
    "\n",
    "if __name__ == \"__main__\":\n",
    "#     run_id = construct_run_id(__file__)\n",
    "#     configure_root_logger(run_id)\n",
    "#     logging.info(__file__)\n",
    "\n",
    "#     args = process_args()\n",
    "#     mx.random.seed(args.seed)\n",
    "\n",
    "    batch_size = 128\n",
    "    train_data, valid_data = Cifar10(batch_size=batch_size,\n",
    "                                     data_shape=(3, 32, 32),\n",
    "                                     padding=4,\n",
    "                                     padding_value=0,\n",
    "                                     normalization_type=\"channel\").return_dataloaders()\n",
    "\n",
    "    lr_schedule = {0: 0.01, 5: 0.1, 95: 0.01, 140: 0.001}\n",
    "\n",
    "    dtype='float16'\n",
    "    model = resnet164Basic(num_classes=10)\n",
    "    model.cast(dtype)\n",
    "    \n",
    "    \n",
    "    learner = GluonLearner(model, 'run_id', gpu_idxs=[0], hybridize=False)\n",
    "    learner.fit(train_data=train_data,\n",
    "                valid_data=valid_data,\n",
    "                epochs=185,\n",
    "                lr_schedule=lr_schedule,\n",
    "                initializer=mx.init.Xavier(rnd_type='gaussian', factor_type='out', magnitude=2),\n",
    "                optimizer=mx.optimizer.SGD(learning_rate=lr_schedule[0], rescale_grad=1.0/batch_size,\n",
    "                                           momentum=0.9, wd=0.0005,\n",
    "                                           multi_precision=(dtype=='float16')),\n",
    "                early_stopping_criteria=lambda e: e >= 0.94) # DAWNBench CIFAR-10 criteria\n",
    "\n",
    "#     _, test_data = Cifar10(batch_size=1, data_shape=(3, 32, 32),\n",
    "#                            normalization_type=\"channel\").return_dataloaders()\n",
    "#     learner.predict(test_data=test_data, log_frequency=100)"
   ]
  },
  {
   "cell_type": "code",
   "execution_count": null,
   "metadata": {},
   "outputs": [],
   "source": [
    "!pwd"
   ]
  },
  {
   "cell_type": "code",
   "execution_count": null,
   "metadata": {},
   "outputs": [],
   "source": []
  }
 ],
 "metadata": {
  "kernelspec": {
   "display_name": "conda_mxnet_p27",
   "language": "python",
   "name": "conda_mxnet_p27"
  },
  "language_info": {
   "codemirror_mode": {
    "name": "ipython",
    "version": 2
   },
   "file_extension": ".py",
   "mimetype": "text/x-python",
   "name": "python",
   "nbconvert_exporter": "python",
   "pygments_lexer": "ipython2",
   "version": "2.7.14"
  }
 },
 "nbformat": 4,
 "nbformat_minor": 2
}
